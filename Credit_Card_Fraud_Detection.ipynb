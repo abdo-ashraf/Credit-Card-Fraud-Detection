{
  "cells": [
    {
      "cell_type": "code",
      "execution_count": null,
      "metadata": {
        "colab": {
          "base_uri": "https://localhost:8080/"
        },
        "id": "IbmkEgftj98h",
        "outputId": "9ee0cb7b-4579-4f49-a107-9ffb04446872"
      },
      "outputs": [
        {
          "name": "stdout",
          "output_type": "stream",
          "text": [
            "/content/drive/MyDrive/Colab Notebooks\n"
          ]
        }
      ],
      "source": [
        "%cd '/content/drive/MyDrive/Colab Notebooks'"
      ]
    },
    {
      "cell_type": "code",
      "execution_count": null,
      "metadata": {
        "colab": {
          "base_uri": "https://localhost:8080/"
        },
        "id": "ezoAun6xc2su",
        "outputId": "a3111895-1e78-43d5-8ff1-d12ba57a02d8"
      },
      "outputs": [
        {
          "name": "stdout",
          "output_type": "stream",
          "text": [
            " creditcard.csv   handDigits.ipynb   Untitled0.ipynb\n",
            " dtree_pipe.png  'Task 5_7.ipynb'    Untitled1.ipynb\n"
          ]
        }
      ],
      "source": [
        "%ls"
      ]
    },
    {
      "cell_type": "code",
      "execution_count": null,
      "metadata": {
        "id": "-dDJoJLIfrDz"
      },
      "outputs": [],
      "source": [
        "import pandas as pd\n",
        "import numpy as np\n",
        "import tensorflow as tf\n",
        "import seaborn as sns\n",
        "import matplotlib.pyplot as plt\n",
        "from sklearn.metrics import confusion_matrix, accuracy_score, classification_report\n",
        "\n",
        "np.random.seed(2)"
      ]
    },
    {
      "cell_type": "markdown",
      "metadata": {
        "id": "lhNPeluVGpbS"
      },
      "source": [
        "# `STEP #1: IMPORTING DATA & get intuition about dataset`"
      ]
    },
    {
      "cell_type": "code",
      "execution_count": null,
      "metadata": {
        "id": "hxWq8f2Fklov"
      },
      "outputs": [],
      "source": [
        "pd.set_option('display.float_format', lambda x: '%.5f' % x)\n",
        "\n",
        "df_card = pd.read_csv('creditcard.csv')"
      ]
    },
    {
      "cell_type": "code",
      "execution_count": null,
      "metadata": {
        "colab": {
          "base_uri": "https://localhost:8080/"
        },
        "id": "i5QXdPJUlFaG",
        "outputId": "72a344ca-b0e1-427f-be97-ef98b6ee0510"
      },
      "outputs": [
        {
          "data": {
            "text/html": [
              "\n",
              "\n",
              "  <div id=\"df-7442fb85-dd3a-4011-b802-402b8a1142d4\">\n",
              "    <div class=\"colab-df-container\">\n",
              "      <div>\n",
              "<style scoped>\n",
              "    .dataframe tbody tr th:only-of-type {\n",
              "        vertical-align: middle;\n",
              "    }\n",
              "\n",
              "    .dataframe tbody tr th {\n",
              "        vertical-align: top;\n",
              "    }\n",
              "\n",
              "    .dataframe thead th {\n",
              "        text-align: right;\n",
              "    }\n",
              "</style>\n",
              "<table border=\"1\" class=\"dataframe\">\n",
              "  <thead>\n",
              "    <tr style=\"text-align: right;\">\n",
              "      <th></th>\n",
              "      <th>Time</th>\n",
              "      <th>V1</th>\n",
              "      <th>V2</th>\n",
              "      <th>V3</th>\n",
              "      <th>V4</th>\n",
              "      <th>V5</th>\n",
              "      <th>V6</th>\n",
              "      <th>V7</th>\n",
              "      <th>V8</th>\n",
              "      <th>V9</th>\n",
              "      <th>...</th>\n",
              "      <th>V21</th>\n",
              "      <th>V22</th>\n",
              "      <th>V23</th>\n",
              "      <th>V24</th>\n",
              "      <th>V25</th>\n",
              "      <th>V26</th>\n",
              "      <th>V27</th>\n",
              "      <th>V28</th>\n",
              "      <th>Amount</th>\n",
              "      <th>Class</th>\n",
              "    </tr>\n",
              "  </thead>\n",
              "  <tbody>\n",
              "    <tr>\n",
              "      <th>0</th>\n",
              "      <td>0.00000</td>\n",
              "      <td>-1.35981</td>\n",
              "      <td>-0.07278</td>\n",
              "      <td>2.53635</td>\n",
              "      <td>1.37816</td>\n",
              "      <td>-0.33832</td>\n",
              "      <td>0.46239</td>\n",
              "      <td>0.23960</td>\n",
              "      <td>0.09870</td>\n",
              "      <td>0.36379</td>\n",
              "      <td>...</td>\n",
              "      <td>-0.01831</td>\n",
              "      <td>0.27784</td>\n",
              "      <td>-0.11047</td>\n",
              "      <td>0.06693</td>\n",
              "      <td>0.12854</td>\n",
              "      <td>-0.18911</td>\n",
              "      <td>0.13356</td>\n",
              "      <td>-0.02105</td>\n",
              "      <td>149.62000</td>\n",
              "      <td>0</td>\n",
              "    </tr>\n",
              "    <tr>\n",
              "      <th>1</th>\n",
              "      <td>0.00000</td>\n",
              "      <td>1.19186</td>\n",
              "      <td>0.26615</td>\n",
              "      <td>0.16648</td>\n",
              "      <td>0.44815</td>\n",
              "      <td>0.06002</td>\n",
              "      <td>-0.08236</td>\n",
              "      <td>-0.07880</td>\n",
              "      <td>0.08510</td>\n",
              "      <td>-0.25543</td>\n",
              "      <td>...</td>\n",
              "      <td>-0.22578</td>\n",
              "      <td>-0.63867</td>\n",
              "      <td>0.10129</td>\n",
              "      <td>-0.33985</td>\n",
              "      <td>0.16717</td>\n",
              "      <td>0.12589</td>\n",
              "      <td>-0.00898</td>\n",
              "      <td>0.01472</td>\n",
              "      <td>2.69000</td>\n",
              "      <td>0</td>\n",
              "    </tr>\n",
              "  </tbody>\n",
              "</table>\n",
              "<p>2 rows × 31 columns</p>\n",
              "</div>\n",
              "      <button class=\"colab-df-convert\" onclick=\"convertToInteractive('df-7442fb85-dd3a-4011-b802-402b8a1142d4')\"\n",
              "              title=\"Convert this dataframe to an interactive table.\"\n",
              "              style=\"display:none;\">\n",
              "\n",
              "  <svg xmlns=\"http://www.w3.org/2000/svg\" height=\"24px\"viewBox=\"0 0 24 24\"\n",
              "       width=\"24px\">\n",
              "    <path d=\"M0 0h24v24H0V0z\" fill=\"none\"/>\n",
              "    <path d=\"M18.56 5.44l.94 2.06.94-2.06 2.06-.94-2.06-.94-.94-2.06-.94 2.06-2.06.94zm-11 1L8.5 8.5l.94-2.06 2.06-.94-2.06-.94L8.5 2.5l-.94 2.06-2.06.94zm10 10l.94 2.06.94-2.06 2.06-.94-2.06-.94-.94-2.06-.94 2.06-2.06.94z\"/><path d=\"M17.41 7.96l-1.37-1.37c-.4-.4-.92-.59-1.43-.59-.52 0-1.04.2-1.43.59L10.3 9.45l-7.72 7.72c-.78.78-.78 2.05 0 2.83L4 21.41c.39.39.9.59 1.41.59.51 0 1.02-.2 1.41-.59l7.78-7.78 2.81-2.81c.8-.78.8-2.07 0-2.86zM5.41 20L4 18.59l7.72-7.72 1.47 1.35L5.41 20z\"/>\n",
              "  </svg>\n",
              "      </button>\n",
              "\n",
              "\n",
              "\n",
              "    <div id=\"df-727dc88d-1b09-4968-8484-fb19fed26a45\">\n",
              "      <button class=\"colab-df-quickchart\" onclick=\"quickchart('df-727dc88d-1b09-4968-8484-fb19fed26a45')\"\n",
              "              title=\"Suggest charts.\"\n",
              "              style=\"display:none;\">\n",
              "\n",
              "<svg xmlns=\"http://www.w3.org/2000/svg\" height=\"24px\"viewBox=\"0 0 24 24\"\n",
              "     width=\"24px\">\n",
              "    <g>\n",
              "        <path d=\"M19 3H5c-1.1 0-2 .9-2 2v14c0 1.1.9 2 2 2h14c1.1 0 2-.9 2-2V5c0-1.1-.9-2-2-2zM9 17H7v-7h2v7zm4 0h-2V7h2v10zm4 0h-2v-4h2v4z\"/>\n",
              "    </g>\n",
              "</svg>\n",
              "      </button>\n",
              "    </div>\n",
              "\n",
              "<style>\n",
              "  .colab-df-quickchart {\n",
              "    background-color: #E8F0FE;\n",
              "    border: none;\n",
              "    border-radius: 50%;\n",
              "    cursor: pointer;\n",
              "    display: none;\n",
              "    fill: #1967D2;\n",
              "    height: 32px;\n",
              "    padding: 0 0 0 0;\n",
              "    width: 32px;\n",
              "  }\n",
              "\n",
              "  .colab-df-quickchart:hover {\n",
              "    background-color: #E2EBFA;\n",
              "    box-shadow: 0px 1px 2px rgba(60, 64, 67, 0.3), 0px 1px 3px 1px rgba(60, 64, 67, 0.15);\n",
              "    fill: #174EA6;\n",
              "  }\n",
              "\n",
              "  [theme=dark] .colab-df-quickchart {\n",
              "    background-color: #3B4455;\n",
              "    fill: #D2E3FC;\n",
              "  }\n",
              "\n",
              "  [theme=dark] .colab-df-quickchart:hover {\n",
              "    background-color: #434B5C;\n",
              "    box-shadow: 0px 1px 3px 1px rgba(0, 0, 0, 0.15);\n",
              "    filter: drop-shadow(0px 1px 2px rgba(0, 0, 0, 0.3));\n",
              "    fill: #FFFFFF;\n",
              "  }\n",
              "</style>\n",
              "\n",
              "    <script>\n",
              "      async function quickchart(key) {\n",
              "        const containerElement = document.querySelector('#' + key);\n",
              "        const charts = await google.colab.kernel.invokeFunction(\n",
              "            'suggestCharts', [key], {});\n",
              "      }\n",
              "    </script>\n",
              "\n",
              "      <script>\n",
              "\n",
              "function displayQuickchartButton(domScope) {\n",
              "  let quickchartButtonEl =\n",
              "    domScope.querySelector('#df-727dc88d-1b09-4968-8484-fb19fed26a45 button.colab-df-quickchart');\n",
              "  quickchartButtonEl.style.display =\n",
              "    google.colab.kernel.accessAllowed ? 'block' : 'none';\n",
              "}\n",
              "\n",
              "        displayQuickchartButton(document);\n",
              "      </script>\n",
              "      <style>\n",
              "    .colab-df-container {\n",
              "      display:flex;\n",
              "      flex-wrap:wrap;\n",
              "      gap: 12px;\n",
              "    }\n",
              "\n",
              "    .colab-df-convert {\n",
              "      background-color: #E8F0FE;\n",
              "      border: none;\n",
              "      border-radius: 50%;\n",
              "      cursor: pointer;\n",
              "      display: none;\n",
              "      fill: #1967D2;\n",
              "      height: 32px;\n",
              "      padding: 0 0 0 0;\n",
              "      width: 32px;\n",
              "    }\n",
              "\n",
              "    .colab-df-convert:hover {\n",
              "      background-color: #E2EBFA;\n",
              "      box-shadow: 0px 1px 2px rgba(60, 64, 67, 0.3), 0px 1px 3px 1px rgba(60, 64, 67, 0.15);\n",
              "      fill: #174EA6;\n",
              "    }\n",
              "\n",
              "    [theme=dark] .colab-df-convert {\n",
              "      background-color: #3B4455;\n",
              "      fill: #D2E3FC;\n",
              "    }\n",
              "\n",
              "    [theme=dark] .colab-df-convert:hover {\n",
              "      background-color: #434B5C;\n",
              "      box-shadow: 0px 1px 3px 1px rgba(0, 0, 0, 0.15);\n",
              "      filter: drop-shadow(0px 1px 2px rgba(0, 0, 0, 0.3));\n",
              "      fill: #FFFFFF;\n",
              "    }\n",
              "  </style>\n",
              "\n",
              "      <script>\n",
              "        const buttonEl =\n",
              "          document.querySelector('#df-7442fb85-dd3a-4011-b802-402b8a1142d4 button.colab-df-convert');\n",
              "        buttonEl.style.display =\n",
              "          google.colab.kernel.accessAllowed ? 'block' : 'none';\n",
              "\n",
              "        async function convertToInteractive(key) {\n",
              "          const element = document.querySelector('#df-7442fb85-dd3a-4011-b802-402b8a1142d4');\n",
              "          const dataTable =\n",
              "            await google.colab.kernel.invokeFunction('convertToInteractive',\n",
              "                                                     [key], {});\n",
              "          if (!dataTable) return;\n",
              "\n",
              "          const docLinkHtml = 'Like what you see? Visit the ' +\n",
              "            '<a target=\"_blank\" href=https://colab.research.google.com/notebooks/data_table.ipynb>data table notebook</a>'\n",
              "            + ' to learn more about interactive tables.';\n",
              "          element.innerHTML = '';\n",
              "          dataTable['output_type'] = 'display_data';\n",
              "          await google.colab.output.renderOutput(dataTable, element);\n",
              "          const docLink = document.createElement('div');\n",
              "          docLink.innerHTML = docLinkHtml;\n",
              "          element.appendChild(docLink);\n",
              "        }\n",
              "      </script>\n",
              "    </div>\n",
              "  </div>\n"
            ],
            "text/plain": [
              "     Time       V1       V2      V3      V4       V5       V6       V7  \\\n",
              "0 0.00000 -1.35981 -0.07278 2.53635 1.37816 -0.33832  0.46239  0.23960   \n",
              "1 0.00000  1.19186  0.26615 0.16648 0.44815  0.06002 -0.08236 -0.07880   \n",
              "\n",
              "       V8       V9  ...      V21      V22      V23      V24     V25      V26  \\\n",
              "0 0.09870  0.36379  ... -0.01831  0.27784 -0.11047  0.06693 0.12854 -0.18911   \n",
              "1 0.08510 -0.25543  ... -0.22578 -0.63867  0.10129 -0.33985 0.16717  0.12589   \n",
              "\n",
              "       V27      V28    Amount  Class  \n",
              "0  0.13356 -0.02105 149.62000      0  \n",
              "1 -0.00898  0.01472   2.69000      0  \n",
              "\n",
              "[2 rows x 31 columns]"
            ]
          },
          "execution_count": 6,
          "metadata": {},
          "output_type": "execute_result"
        }
      ],
      "source": [
        "df_card.head(2)"
      ]
    },
    {
      "cell_type": "code",
      "execution_count": null,
      "metadata": {
        "colab": {
          "base_uri": "https://localhost:8080/"
        },
        "id": "t9UO0ipwIBuW",
        "outputId": "6f5e66bf-740c-4976-f5b3-fa4daea063d1"
      },
      "outputs": [
        {
          "data": {
            "text/html": [
              "\n",
              "\n",
              "  <div id=\"df-29e67daf-ccbe-4fcb-bd44-cddb5e72e9ee\">\n",
              "    <div class=\"colab-df-container\">\n",
              "      <div>\n",
              "<style scoped>\n",
              "    .dataframe tbody tr th:only-of-type {\n",
              "        vertical-align: middle;\n",
              "    }\n",
              "\n",
              "    .dataframe tbody tr th {\n",
              "        vertical-align: top;\n",
              "    }\n",
              "\n",
              "    .dataframe thead th {\n",
              "        text-align: right;\n",
              "    }\n",
              "</style>\n",
              "<table border=\"1\" class=\"dataframe\">\n",
              "  <thead>\n",
              "    <tr style=\"text-align: right;\">\n",
              "      <th></th>\n",
              "      <th>Time</th>\n",
              "      <th>V1</th>\n",
              "      <th>V2</th>\n",
              "      <th>V3</th>\n",
              "      <th>V4</th>\n",
              "      <th>V5</th>\n",
              "      <th>V6</th>\n",
              "      <th>V7</th>\n",
              "      <th>V8</th>\n",
              "      <th>V9</th>\n",
              "      <th>...</th>\n",
              "      <th>V21</th>\n",
              "      <th>V22</th>\n",
              "      <th>V23</th>\n",
              "      <th>V24</th>\n",
              "      <th>V25</th>\n",
              "      <th>V26</th>\n",
              "      <th>V27</th>\n",
              "      <th>V28</th>\n",
              "      <th>Amount</th>\n",
              "      <th>Class</th>\n",
              "    </tr>\n",
              "  </thead>\n",
              "  <tbody>\n",
              "    <tr>\n",
              "      <th>count</th>\n",
              "      <td>284807.00000</td>\n",
              "      <td>284807.00000</td>\n",
              "      <td>284807.00000</td>\n",
              "      <td>284807.00000</td>\n",
              "      <td>284807.00000</td>\n",
              "      <td>284807.00000</td>\n",
              "      <td>284807.00000</td>\n",
              "      <td>284807.00000</td>\n",
              "      <td>284807.00000</td>\n",
              "      <td>284807.00000</td>\n",
              "      <td>...</td>\n",
              "      <td>284807.00000</td>\n",
              "      <td>284807.00000</td>\n",
              "      <td>284807.00000</td>\n",
              "      <td>284807.00000</td>\n",
              "      <td>284807.00000</td>\n",
              "      <td>284807.00000</td>\n",
              "      <td>284807.00000</td>\n",
              "      <td>284807.00000</td>\n",
              "      <td>284807.00000</td>\n",
              "      <td>284807.00000</td>\n",
              "    </tr>\n",
              "    <tr>\n",
              "      <th>mean</th>\n",
              "      <td>94813.85958</td>\n",
              "      <td>0.00000</td>\n",
              "      <td>0.00000</td>\n",
              "      <td>-0.00000</td>\n",
              "      <td>0.00000</td>\n",
              "      <td>0.00000</td>\n",
              "      <td>0.00000</td>\n",
              "      <td>-0.00000</td>\n",
              "      <td>0.00000</td>\n",
              "      <td>-0.00000</td>\n",
              "      <td>...</td>\n",
              "      <td>0.00000</td>\n",
              "      <td>-0.00000</td>\n",
              "      <td>0.00000</td>\n",
              "      <td>0.00000</td>\n",
              "      <td>0.00000</td>\n",
              "      <td>0.00000</td>\n",
              "      <td>-0.00000</td>\n",
              "      <td>-0.00000</td>\n",
              "      <td>88.34962</td>\n",
              "      <td>0.00173</td>\n",
              "    </tr>\n",
              "    <tr>\n",
              "      <th>std</th>\n",
              "      <td>47488.14595</td>\n",
              "      <td>1.95870</td>\n",
              "      <td>1.65131</td>\n",
              "      <td>1.51626</td>\n",
              "      <td>1.41587</td>\n",
              "      <td>1.38025</td>\n",
              "      <td>1.33227</td>\n",
              "      <td>1.23709</td>\n",
              "      <td>1.19435</td>\n",
              "      <td>1.09863</td>\n",
              "      <td>...</td>\n",
              "      <td>0.73452</td>\n",
              "      <td>0.72570</td>\n",
              "      <td>0.62446</td>\n",
              "      <td>0.60565</td>\n",
              "      <td>0.52128</td>\n",
              "      <td>0.48223</td>\n",
              "      <td>0.40363</td>\n",
              "      <td>0.33008</td>\n",
              "      <td>250.12011</td>\n",
              "      <td>0.04153</td>\n",
              "    </tr>\n",
              "    <tr>\n",
              "      <th>min</th>\n",
              "      <td>0.00000</td>\n",
              "      <td>-56.40751</td>\n",
              "      <td>-72.71573</td>\n",
              "      <td>-48.32559</td>\n",
              "      <td>-5.68317</td>\n",
              "      <td>-113.74331</td>\n",
              "      <td>-26.16051</td>\n",
              "      <td>-43.55724</td>\n",
              "      <td>-73.21672</td>\n",
              "      <td>-13.43407</td>\n",
              "      <td>...</td>\n",
              "      <td>-34.83038</td>\n",
              "      <td>-10.93314</td>\n",
              "      <td>-44.80774</td>\n",
              "      <td>-2.83663</td>\n",
              "      <td>-10.29540</td>\n",
              "      <td>-2.60455</td>\n",
              "      <td>-22.56568</td>\n",
              "      <td>-15.43008</td>\n",
              "      <td>0.00000</td>\n",
              "      <td>0.00000</td>\n",
              "    </tr>\n",
              "    <tr>\n",
              "      <th>25%</th>\n",
              "      <td>54201.50000</td>\n",
              "      <td>-0.92037</td>\n",
              "      <td>-0.59855</td>\n",
              "      <td>-0.89036</td>\n",
              "      <td>-0.84864</td>\n",
              "      <td>-0.69160</td>\n",
              "      <td>-0.76830</td>\n",
              "      <td>-0.55408</td>\n",
              "      <td>-0.20863</td>\n",
              "      <td>-0.64310</td>\n",
              "      <td>...</td>\n",
              "      <td>-0.22839</td>\n",
              "      <td>-0.54235</td>\n",
              "      <td>-0.16185</td>\n",
              "      <td>-0.35459</td>\n",
              "      <td>-0.31715</td>\n",
              "      <td>-0.32698</td>\n",
              "      <td>-0.07084</td>\n",
              "      <td>-0.05296</td>\n",
              "      <td>5.60000</td>\n",
              "      <td>0.00000</td>\n",
              "    </tr>\n",
              "    <tr>\n",
              "      <th>50%</th>\n",
              "      <td>84692.00000</td>\n",
              "      <td>0.01811</td>\n",
              "      <td>0.06549</td>\n",
              "      <td>0.17985</td>\n",
              "      <td>-0.01985</td>\n",
              "      <td>-0.05434</td>\n",
              "      <td>-0.27419</td>\n",
              "      <td>0.04010</td>\n",
              "      <td>0.02236</td>\n",
              "      <td>-0.05143</td>\n",
              "      <td>...</td>\n",
              "      <td>-0.02945</td>\n",
              "      <td>0.00678</td>\n",
              "      <td>-0.01119</td>\n",
              "      <td>0.04098</td>\n",
              "      <td>0.01659</td>\n",
              "      <td>-0.05214</td>\n",
              "      <td>0.00134</td>\n",
              "      <td>0.01124</td>\n",
              "      <td>22.00000</td>\n",
              "      <td>0.00000</td>\n",
              "    </tr>\n",
              "    <tr>\n",
              "      <th>75%</th>\n",
              "      <td>139320.50000</td>\n",
              "      <td>1.31564</td>\n",
              "      <td>0.80372</td>\n",
              "      <td>1.02720</td>\n",
              "      <td>0.74334</td>\n",
              "      <td>0.61193</td>\n",
              "      <td>0.39856</td>\n",
              "      <td>0.57044</td>\n",
              "      <td>0.32735</td>\n",
              "      <td>0.59714</td>\n",
              "      <td>...</td>\n",
              "      <td>0.18638</td>\n",
              "      <td>0.52855</td>\n",
              "      <td>0.14764</td>\n",
              "      <td>0.43953</td>\n",
              "      <td>0.35072</td>\n",
              "      <td>0.24095</td>\n",
              "      <td>0.09105</td>\n",
              "      <td>0.07828</td>\n",
              "      <td>77.16500</td>\n",
              "      <td>0.00000</td>\n",
              "    </tr>\n",
              "    <tr>\n",
              "      <th>max</th>\n",
              "      <td>172792.00000</td>\n",
              "      <td>2.45493</td>\n",
              "      <td>22.05773</td>\n",
              "      <td>9.38256</td>\n",
              "      <td>16.87534</td>\n",
              "      <td>34.80167</td>\n",
              "      <td>73.30163</td>\n",
              "      <td>120.58949</td>\n",
              "      <td>20.00721</td>\n",
              "      <td>15.59499</td>\n",
              "      <td>...</td>\n",
              "      <td>27.20284</td>\n",
              "      <td>10.50309</td>\n",
              "      <td>22.52841</td>\n",
              "      <td>4.58455</td>\n",
              "      <td>7.51959</td>\n",
              "      <td>3.51735</td>\n",
              "      <td>31.61220</td>\n",
              "      <td>33.84781</td>\n",
              "      <td>25691.16000</td>\n",
              "      <td>1.00000</td>\n",
              "    </tr>\n",
              "  </tbody>\n",
              "</table>\n",
              "<p>8 rows × 31 columns</p>\n",
              "</div>\n",
              "      <button class=\"colab-df-convert\" onclick=\"convertToInteractive('df-29e67daf-ccbe-4fcb-bd44-cddb5e72e9ee')\"\n",
              "              title=\"Convert this dataframe to an interactive table.\"\n",
              "              style=\"display:none;\">\n",
              "\n",
              "  <svg xmlns=\"http://www.w3.org/2000/svg\" height=\"24px\"viewBox=\"0 0 24 24\"\n",
              "       width=\"24px\">\n",
              "    <path d=\"M0 0h24v24H0V0z\" fill=\"none\"/>\n",
              "    <path d=\"M18.56 5.44l.94 2.06.94-2.06 2.06-.94-2.06-.94-.94-2.06-.94 2.06-2.06.94zm-11 1L8.5 8.5l.94-2.06 2.06-.94-2.06-.94L8.5 2.5l-.94 2.06-2.06.94zm10 10l.94 2.06.94-2.06 2.06-.94-2.06-.94-.94-2.06-.94 2.06-2.06.94z\"/><path d=\"M17.41 7.96l-1.37-1.37c-.4-.4-.92-.59-1.43-.59-.52 0-1.04.2-1.43.59L10.3 9.45l-7.72 7.72c-.78.78-.78 2.05 0 2.83L4 21.41c.39.39.9.59 1.41.59.51 0 1.02-.2 1.41-.59l7.78-7.78 2.81-2.81c.8-.78.8-2.07 0-2.86zM5.41 20L4 18.59l7.72-7.72 1.47 1.35L5.41 20z\"/>\n",
              "  </svg>\n",
              "      </button>\n",
              "\n",
              "\n",
              "\n",
              "    <div id=\"df-2fb5ba49-12a9-49c5-926e-5d5044d9b3c1\">\n",
              "      <button class=\"colab-df-quickchart\" onclick=\"quickchart('df-2fb5ba49-12a9-49c5-926e-5d5044d9b3c1')\"\n",
              "              title=\"Suggest charts.\"\n",
              "              style=\"display:none;\">\n",
              "\n",
              "<svg xmlns=\"http://www.w3.org/2000/svg\" height=\"24px\"viewBox=\"0 0 24 24\"\n",
              "     width=\"24px\">\n",
              "    <g>\n",
              "        <path d=\"M19 3H5c-1.1 0-2 .9-2 2v14c0 1.1.9 2 2 2h14c1.1 0 2-.9 2-2V5c0-1.1-.9-2-2-2zM9 17H7v-7h2v7zm4 0h-2V7h2v10zm4 0h-2v-4h2v4z\"/>\n",
              "    </g>\n",
              "</svg>\n",
              "      </button>\n",
              "    </div>\n",
              "\n",
              "<style>\n",
              "  .colab-df-quickchart {\n",
              "    background-color: #E8F0FE;\n",
              "    border: none;\n",
              "    border-radius: 50%;\n",
              "    cursor: pointer;\n",
              "    display: none;\n",
              "    fill: #1967D2;\n",
              "    height: 32px;\n",
              "    padding: 0 0 0 0;\n",
              "    width: 32px;\n",
              "  }\n",
              "\n",
              "  .colab-df-quickchart:hover {\n",
              "    background-color: #E2EBFA;\n",
              "    box-shadow: 0px 1px 2px rgba(60, 64, 67, 0.3), 0px 1px 3px 1px rgba(60, 64, 67, 0.15);\n",
              "    fill: #174EA6;\n",
              "  }\n",
              "\n",
              "  [theme=dark] .colab-df-quickchart {\n",
              "    background-color: #3B4455;\n",
              "    fill: #D2E3FC;\n",
              "  }\n",
              "\n",
              "  [theme=dark] .colab-df-quickchart:hover {\n",
              "    background-color: #434B5C;\n",
              "    box-shadow: 0px 1px 3px 1px rgba(0, 0, 0, 0.15);\n",
              "    filter: drop-shadow(0px 1px 2px rgba(0, 0, 0, 0.3));\n",
              "    fill: #FFFFFF;\n",
              "  }\n",
              "</style>\n",
              "\n",
              "    <script>\n",
              "      async function quickchart(key) {\n",
              "        const containerElement = document.querySelector('#' + key);\n",
              "        const charts = await google.colab.kernel.invokeFunction(\n",
              "            'suggestCharts', [key], {});\n",
              "      }\n",
              "    </script>\n",
              "\n",
              "      <script>\n",
              "\n",
              "function displayQuickchartButton(domScope) {\n",
              "  let quickchartButtonEl =\n",
              "    domScope.querySelector('#df-2fb5ba49-12a9-49c5-926e-5d5044d9b3c1 button.colab-df-quickchart');\n",
              "  quickchartButtonEl.style.display =\n",
              "    google.colab.kernel.accessAllowed ? 'block' : 'none';\n",
              "}\n",
              "\n",
              "        displayQuickchartButton(document);\n",
              "      </script>\n",
              "      <style>\n",
              "    .colab-df-container {\n",
              "      display:flex;\n",
              "      flex-wrap:wrap;\n",
              "      gap: 12px;\n",
              "    }\n",
              "\n",
              "    .colab-df-convert {\n",
              "      background-color: #E8F0FE;\n",
              "      border: none;\n",
              "      border-radius: 50%;\n",
              "      cursor: pointer;\n",
              "      display: none;\n",
              "      fill: #1967D2;\n",
              "      height: 32px;\n",
              "      padding: 0 0 0 0;\n",
              "      width: 32px;\n",
              "    }\n",
              "\n",
              "    .colab-df-convert:hover {\n",
              "      background-color: #E2EBFA;\n",
              "      box-shadow: 0px 1px 2px rgba(60, 64, 67, 0.3), 0px 1px 3px 1px rgba(60, 64, 67, 0.15);\n",
              "      fill: #174EA6;\n",
              "    }\n",
              "\n",
              "    [theme=dark] .colab-df-convert {\n",
              "      background-color: #3B4455;\n",
              "      fill: #D2E3FC;\n",
              "    }\n",
              "\n",
              "    [theme=dark] .colab-df-convert:hover {\n",
              "      background-color: #434B5C;\n",
              "      box-shadow: 0px 1px 3px 1px rgba(0, 0, 0, 0.15);\n",
              "      filter: drop-shadow(0px 1px 2px rgba(0, 0, 0, 0.3));\n",
              "      fill: #FFFFFF;\n",
              "    }\n",
              "  </style>\n",
              "\n",
              "      <script>\n",
              "        const buttonEl =\n",
              "          document.querySelector('#df-29e67daf-ccbe-4fcb-bd44-cddb5e72e9ee button.colab-df-convert');\n",
              "        buttonEl.style.display =\n",
              "          google.colab.kernel.accessAllowed ? 'block' : 'none';\n",
              "\n",
              "        async function convertToInteractive(key) {\n",
              "          const element = document.querySelector('#df-29e67daf-ccbe-4fcb-bd44-cddb5e72e9ee');\n",
              "          const dataTable =\n",
              "            await google.colab.kernel.invokeFunction('convertToInteractive',\n",
              "                                                     [key], {});\n",
              "          if (!dataTable) return;\n",
              "\n",
              "          const docLinkHtml = 'Like what you see? Visit the ' +\n",
              "            '<a target=\"_blank\" href=https://colab.research.google.com/notebooks/data_table.ipynb>data table notebook</a>'\n",
              "            + ' to learn more about interactive tables.';\n",
              "          element.innerHTML = '';\n",
              "          dataTable['output_type'] = 'display_data';\n",
              "          await google.colab.output.renderOutput(dataTable, element);\n",
              "          const docLink = document.createElement('div');\n",
              "          docLink.innerHTML = docLinkHtml;\n",
              "          element.appendChild(docLink);\n",
              "        }\n",
              "      </script>\n",
              "    </div>\n",
              "  </div>\n"
            ],
            "text/plain": [
              "              Time           V1           V2           V3           V4  \\\n",
              "count 284807.00000 284807.00000 284807.00000 284807.00000 284807.00000   \n",
              "mean   94813.85958      0.00000      0.00000     -0.00000      0.00000   \n",
              "std    47488.14595      1.95870      1.65131      1.51626      1.41587   \n",
              "min        0.00000    -56.40751    -72.71573    -48.32559     -5.68317   \n",
              "25%    54201.50000     -0.92037     -0.59855     -0.89036     -0.84864   \n",
              "50%    84692.00000      0.01811      0.06549      0.17985     -0.01985   \n",
              "75%   139320.50000      1.31564      0.80372      1.02720      0.74334   \n",
              "max   172792.00000      2.45493     22.05773      9.38256     16.87534   \n",
              "\n",
              "                V5           V6           V7           V8           V9  ...  \\\n",
              "count 284807.00000 284807.00000 284807.00000 284807.00000 284807.00000  ...   \n",
              "mean       0.00000      0.00000     -0.00000      0.00000     -0.00000  ...   \n",
              "std        1.38025      1.33227      1.23709      1.19435      1.09863  ...   \n",
              "min     -113.74331    -26.16051    -43.55724    -73.21672    -13.43407  ...   \n",
              "25%       -0.69160     -0.76830     -0.55408     -0.20863     -0.64310  ...   \n",
              "50%       -0.05434     -0.27419      0.04010      0.02236     -0.05143  ...   \n",
              "75%        0.61193      0.39856      0.57044      0.32735      0.59714  ...   \n",
              "max       34.80167     73.30163    120.58949     20.00721     15.59499  ...   \n",
              "\n",
              "               V21          V22          V23          V24          V25  \\\n",
              "count 284807.00000 284807.00000 284807.00000 284807.00000 284807.00000   \n",
              "mean       0.00000     -0.00000      0.00000      0.00000      0.00000   \n",
              "std        0.73452      0.72570      0.62446      0.60565      0.52128   \n",
              "min      -34.83038    -10.93314    -44.80774     -2.83663    -10.29540   \n",
              "25%       -0.22839     -0.54235     -0.16185     -0.35459     -0.31715   \n",
              "50%       -0.02945      0.00678     -0.01119      0.04098      0.01659   \n",
              "75%        0.18638      0.52855      0.14764      0.43953      0.35072   \n",
              "max       27.20284     10.50309     22.52841      4.58455      7.51959   \n",
              "\n",
              "               V26          V27          V28       Amount        Class  \n",
              "count 284807.00000 284807.00000 284807.00000 284807.00000 284807.00000  \n",
              "mean       0.00000     -0.00000     -0.00000     88.34962      0.00173  \n",
              "std        0.48223      0.40363      0.33008    250.12011      0.04153  \n",
              "min       -2.60455    -22.56568    -15.43008      0.00000      0.00000  \n",
              "25%       -0.32698     -0.07084     -0.05296      5.60000      0.00000  \n",
              "50%       -0.05214      0.00134      0.01124     22.00000      0.00000  \n",
              "75%        0.24095      0.09105      0.07828     77.16500      0.00000  \n",
              "max        3.51735     31.61220     33.84781  25691.16000      1.00000  \n",
              "\n",
              "[8 rows x 31 columns]"
            ]
          },
          "execution_count": 7,
          "metadata": {},
          "output_type": "execute_result"
        }
      ],
      "source": [
        "df_card.describe()"
      ]
    },
    {
      "cell_type": "markdown",
      "metadata": {
        "id": "UGrIO9hHeG9F"
      },
      "source": [
        "# `STEP #2: DATA CLEANING`"
      ]
    },
    {
      "cell_type": "code",
      "execution_count": null,
      "metadata": {
        "colab": {
          "base_uri": "https://localhost:8080/"
        },
        "id": "vfyG0jktfwxp",
        "outputId": "d7f276cd-0e85-4a2b-91f8-6ffb5f9454ac"
      },
      "outputs": [
        {
          "name": "stdout",
          "output_type": "stream",
          "text": [
            "<class 'pandas.core.frame.DataFrame'>\n",
            "RangeIndex: 284807 entries, 0 to 284806\n",
            "Data columns (total 31 columns):\n",
            " #   Column  Non-Null Count   Dtype  \n",
            "---  ------  --------------   -----  \n",
            " 0   Time    284807 non-null  float64\n",
            " 1   V1      284807 non-null  float64\n",
            " 2   V2      284807 non-null  float64\n",
            " 3   V3      284807 non-null  float64\n",
            " 4   V4      284807 non-null  float64\n",
            " 5   V5      284807 non-null  float64\n",
            " 6   V6      284807 non-null  float64\n",
            " 7   V7      284807 non-null  float64\n",
            " 8   V8      284807 non-null  float64\n",
            " 9   V9      284807 non-null  float64\n",
            " 10  V10     284807 non-null  float64\n",
            " 11  V11     284807 non-null  float64\n",
            " 12  V12     284807 non-null  float64\n",
            " 13  V13     284807 non-null  float64\n",
            " 14  V14     284807 non-null  float64\n",
            " 15  V15     284807 non-null  float64\n",
            " 16  V16     284807 non-null  float64\n",
            " 17  V17     284807 non-null  float64\n",
            " 18  V18     284807 non-null  float64\n",
            " 19  V19     284807 non-null  float64\n",
            " 20  V20     284807 non-null  float64\n",
            " 21  V21     284807 non-null  float64\n",
            " 22  V22     284807 non-null  float64\n",
            " 23  V23     284807 non-null  float64\n",
            " 24  V24     284807 non-null  float64\n",
            " 25  V25     284807 non-null  float64\n",
            " 26  V26     284807 non-null  float64\n",
            " 27  V27     284807 non-null  float64\n",
            " 28  V28     284807 non-null  float64\n",
            " 29  Amount  284807 non-null  float64\n",
            " 30  Class   284807 non-null  int64  \n",
            "dtypes: float64(30), int64(1)\n",
            "memory usage: 67.4 MB\n"
          ]
        }
      ],
      "source": [
        "df_card.info()"
      ]
    },
    {
      "cell_type": "markdown",
      "metadata": {
        "id": "o1tIU7GVf8u8"
      },
      "source": [
        "### `CLEANED`"
      ]
    },
    {
      "cell_type": "markdown",
      "metadata": {
        "id": "B_sgGeOsfflx"
      },
      "source": [
        "# `STEP #3: VISUALIZING THE DATA`"
      ]
    },
    {
      "cell_type": "markdown",
      "metadata": {
        "id": "sL4zEcRCfhss"
      },
      "source": [
        "# `STEP #4: FEATURE ENGINEERING`\n",
        "- drop Time column"
      ]
    },
    {
      "cell_type": "code",
      "execution_count": null,
      "metadata": {
        "colab": {
          "base_uri": "https://localhost:8080/"
        },
        "id": "32xmQhltVRJ2",
        "outputId": "90258d5b-4407-4759-dca1-66c0e4df24fd"
      },
      "outputs": [
        {
          "data": {
            "text/plain": [
              "Index(['V1', 'V2', 'V3', 'V4', 'V5', 'V6', 'V7', 'V8', 'V9', 'V10', 'V11',\n",
              "       'V12', 'V13', 'V14', 'V15', 'V16', 'V17', 'V18', 'V19', 'V20', 'V21',\n",
              "       'V22', 'V23', 'V24', 'V25', 'V26', 'V27', 'V28', 'Amount', 'Class'],\n",
              "      dtype='object')"
            ]
          },
          "execution_count": 9,
          "metadata": {},
          "output_type": "execute_result"
        }
      ],
      "source": [
        "if 'Time' in df_card.columns:\n",
        "  df_card.drop(columns='Time', inplace=True)\n",
        "df_card.columns"
      ]
    },
    {
      "cell_type": "markdown",
      "metadata": {
        "id": "YPQsnh-Ifk4V"
      },
      "source": [
        "# `STEP #5: SPLIT then PREPROCESSING DATA`\n",
        "- there is no categorical features so scaling num features is enough"
      ]
    },
    {
      "cell_type": "code",
      "execution_count": null,
      "metadata": {
        "colab": {
          "base_uri": "https://localhost:8080/"
        },
        "id": "xxJ74Mr_dmY_",
        "outputId": "a27cd937-6bfd-426f-ba58-b1b4011bf564"
      },
      "outputs": [
        {
          "data": {
            "text/plain": [
              "((199364, 29), (85443, 29), (199364,), (85443,))"
            ]
          },
          "execution_count": 10,
          "metadata": {},
          "output_type": "execute_result"
        }
      ],
      "source": [
        "test_size = 0.3\n",
        "\n",
        "from sklearn.model_selection import train_test_split\n",
        "\n",
        "x = df_card.drop(columns='Class')\n",
        "y = df_card['Class']\n",
        "\n",
        "x_train, x_test, y_train, y_test = train_test_split(x, y, test_size=test_size, random_state=0)\n",
        "x_train.shape, x_test.shape, y_train.shape, y_test.shape"
      ]
    },
    {
      "cell_type": "code",
      "execution_count": null,
      "metadata": {
        "colab": {
          "base_uri": "https://localhost:8080/"
        },
        "id": "xb7hlPS9S-AF",
        "outputId": "ce378d47-e74e-420e-dff2-d922496324c9"
      },
      "outputs": [
        {
          "data": {
            "text/plain": [
              "(199364, 1)"
            ]
          },
          "execution_count": 11,
          "metadata": {},
          "output_type": "execute_result"
        }
      ],
      "source": [
        "np.array(x_train['Amount']).reshape(-1, 1).shape"
      ]
    },
    {
      "cell_type": "code",
      "execution_count": null,
      "metadata": {
        "id": "_sC9SeiBR8e4"
      },
      "outputs": [],
      "source": [
        "from sklearn.preprocessing import StandardScaler\n",
        "\n",
        "sc = StandardScaler()\n",
        "sc.fit(np.array(x_train['Amount']).reshape(-1, 1))\n",
        "\n",
        "x_train['Amount'] = sc.transform(np.array(x_train['Amount']).reshape(-1, 1))\n",
        "x_test['Amount'] = sc.transform(np.array(x_test['Amount']).reshape(-1, 1))"
      ]
    },
    {
      "cell_type": "code",
      "execution_count": null,
      "metadata": {
        "colab": {
          "base_uri": "https://localhost:8080/",
          "height": 205
        },
        "id": "ErT00LxnUFWw",
        "outputId": "25902979-abcc-4c45-be3a-4212299330ea"
      },
      "outputs": [
        {
          "data": {
            "text/html": [
              "\n",
              "\n",
              "  <div id=\"df-4b7ce3c4-995b-4704-b9ab-5d2ccaf03ad2\">\n",
              "    <div class=\"colab-df-container\">\n",
              "      <div>\n",
              "<style scoped>\n",
              "    .dataframe tbody tr th:only-of-type {\n",
              "        vertical-align: middle;\n",
              "    }\n",
              "\n",
              "    .dataframe tbody tr th {\n",
              "        vertical-align: top;\n",
              "    }\n",
              "\n",
              "    .dataframe thead th {\n",
              "        text-align: right;\n",
              "    }\n",
              "</style>\n",
              "<table border=\"1\" class=\"dataframe\">\n",
              "  <thead>\n",
              "    <tr style=\"text-align: right;\">\n",
              "      <th></th>\n",
              "      <th>V1</th>\n",
              "      <th>V2</th>\n",
              "      <th>V3</th>\n",
              "      <th>V4</th>\n",
              "      <th>V5</th>\n",
              "      <th>V6</th>\n",
              "      <th>V7</th>\n",
              "      <th>V8</th>\n",
              "      <th>V9</th>\n",
              "      <th>V10</th>\n",
              "      <th>...</th>\n",
              "      <th>V20</th>\n",
              "      <th>V21</th>\n",
              "      <th>V22</th>\n",
              "      <th>V23</th>\n",
              "      <th>V24</th>\n",
              "      <th>V25</th>\n",
              "      <th>V26</th>\n",
              "      <th>V27</th>\n",
              "      <th>V28</th>\n",
              "      <th>Amount</th>\n",
              "    </tr>\n",
              "  </thead>\n",
              "  <tbody>\n",
              "    <tr>\n",
              "      <th>161145</th>\n",
              "      <td>-0.13207</td>\n",
              "      <td>0.10704</td>\n",
              "      <td>-0.65059</td>\n",
              "      <td>-0.99603</td>\n",
              "      <td>1.81433</td>\n",
              "      <td>1.74074</td>\n",
              "      <td>0.49685</td>\n",
              "      <td>0.63302</td>\n",
              "      <td>0.01718</td>\n",
              "      <td>-0.36271</td>\n",
              "      <td>...</td>\n",
              "      <td>-0.06261</td>\n",
              "      <td>-0.06249</td>\n",
              "      <td>0.00529</td>\n",
              "      <td>0.25152</td>\n",
              "      <td>-2.46681</td>\n",
              "      <td>-0.88969</td>\n",
              "      <td>0.33746</td>\n",
              "      <td>0.30639</td>\n",
              "      <td>0.07482</td>\n",
              "      <td>-0.16569</td>\n",
              "    </tr>\n",
              "    <tr>\n",
              "      <th>204520</th>\n",
              "      <td>2.12599</td>\n",
              "      <td>0.01421</td>\n",
              "      <td>-1.51476</td>\n",
              "      <td>0.11502</td>\n",
              "      <td>0.59851</td>\n",
              "      <td>-0.33324</td>\n",
              "      <td>0.19929</td>\n",
              "      <td>-0.26435</td>\n",
              "      <td>0.38411</td>\n",
              "      <td>0.02875</td>\n",
              "      <td>...</td>\n",
              "      <td>-0.08608</td>\n",
              "      <td>-0.32937</td>\n",
              "      <td>-0.78815</td>\n",
              "      <td>0.26773</td>\n",
              "      <td>0.06612</td>\n",
              "      <td>-0.13578</td>\n",
              "      <td>0.20384</td>\n",
              "      <td>-0.06827</td>\n",
              "      <td>-0.05768</td>\n",
              "      <td>-0.35224</td>\n",
              "    </tr>\n",
              "  </tbody>\n",
              "</table>\n",
              "<p>2 rows × 29 columns</p>\n",
              "</div>\n",
              "      <button class=\"colab-df-convert\" onclick=\"convertToInteractive('df-4b7ce3c4-995b-4704-b9ab-5d2ccaf03ad2')\"\n",
              "              title=\"Convert this dataframe to an interactive table.\"\n",
              "              style=\"display:none;\">\n",
              "\n",
              "  <svg xmlns=\"http://www.w3.org/2000/svg\" height=\"24px\"viewBox=\"0 0 24 24\"\n",
              "       width=\"24px\">\n",
              "    <path d=\"M0 0h24v24H0V0z\" fill=\"none\"/>\n",
              "    <path d=\"M18.56 5.44l.94 2.06.94-2.06 2.06-.94-2.06-.94-.94-2.06-.94 2.06-2.06.94zm-11 1L8.5 8.5l.94-2.06 2.06-.94-2.06-.94L8.5 2.5l-.94 2.06-2.06.94zm10 10l.94 2.06.94-2.06 2.06-.94-2.06-.94-.94-2.06-.94 2.06-2.06.94z\"/><path d=\"M17.41 7.96l-1.37-1.37c-.4-.4-.92-.59-1.43-.59-.52 0-1.04.2-1.43.59L10.3 9.45l-7.72 7.72c-.78.78-.78 2.05 0 2.83L4 21.41c.39.39.9.59 1.41.59.51 0 1.02-.2 1.41-.59l7.78-7.78 2.81-2.81c.8-.78.8-2.07 0-2.86zM5.41 20L4 18.59l7.72-7.72 1.47 1.35L5.41 20z\"/>\n",
              "  </svg>\n",
              "      </button>\n",
              "\n",
              "\n",
              "\n",
              "    <div id=\"df-eafb5c7c-df8d-4b63-8a8b-fd9bc5f51808\">\n",
              "      <button class=\"colab-df-quickchart\" onclick=\"quickchart('df-eafb5c7c-df8d-4b63-8a8b-fd9bc5f51808')\"\n",
              "              title=\"Suggest charts.\"\n",
              "              style=\"display:none;\">\n",
              "\n",
              "<svg xmlns=\"http://www.w3.org/2000/svg\" height=\"24px\"viewBox=\"0 0 24 24\"\n",
              "     width=\"24px\">\n",
              "    <g>\n",
              "        <path d=\"M19 3H5c-1.1 0-2 .9-2 2v14c0 1.1.9 2 2 2h14c1.1 0 2-.9 2-2V5c0-1.1-.9-2-2-2zM9 17H7v-7h2v7zm4 0h-2V7h2v10zm4 0h-2v-4h2v4z\"/>\n",
              "    </g>\n",
              "</svg>\n",
              "      </button>\n",
              "    </div>\n",
              "\n",
              "<style>\n",
              "  .colab-df-quickchart {\n",
              "    background-color: #E8F0FE;\n",
              "    border: none;\n",
              "    border-radius: 50%;\n",
              "    cursor: pointer;\n",
              "    display: none;\n",
              "    fill: #1967D2;\n",
              "    height: 32px;\n",
              "    padding: 0 0 0 0;\n",
              "    width: 32px;\n",
              "  }\n",
              "\n",
              "  .colab-df-quickchart:hover {\n",
              "    background-color: #E2EBFA;\n",
              "    box-shadow: 0px 1px 2px rgba(60, 64, 67, 0.3), 0px 1px 3px 1px rgba(60, 64, 67, 0.15);\n",
              "    fill: #174EA6;\n",
              "  }\n",
              "\n",
              "  [theme=dark] .colab-df-quickchart {\n",
              "    background-color: #3B4455;\n",
              "    fill: #D2E3FC;\n",
              "  }\n",
              "\n",
              "  [theme=dark] .colab-df-quickchart:hover {\n",
              "    background-color: #434B5C;\n",
              "    box-shadow: 0px 1px 3px 1px rgba(0, 0, 0, 0.15);\n",
              "    filter: drop-shadow(0px 1px 2px rgba(0, 0, 0, 0.3));\n",
              "    fill: #FFFFFF;\n",
              "  }\n",
              "</style>\n",
              "\n",
              "    <script>\n",
              "      async function quickchart(key) {\n",
              "        const containerElement = document.querySelector('#' + key);\n",
              "        const charts = await google.colab.kernel.invokeFunction(\n",
              "            'suggestCharts', [key], {});\n",
              "      }\n",
              "    </script>\n",
              "\n",
              "      <script>\n",
              "\n",
              "function displayQuickchartButton(domScope) {\n",
              "  let quickchartButtonEl =\n",
              "    domScope.querySelector('#df-eafb5c7c-df8d-4b63-8a8b-fd9bc5f51808 button.colab-df-quickchart');\n",
              "  quickchartButtonEl.style.display =\n",
              "    google.colab.kernel.accessAllowed ? 'block' : 'none';\n",
              "}\n",
              "\n",
              "        displayQuickchartButton(document);\n",
              "      </script>\n",
              "      <style>\n",
              "    .colab-df-container {\n",
              "      display:flex;\n",
              "      flex-wrap:wrap;\n",
              "      gap: 12px;\n",
              "    }\n",
              "\n",
              "    .colab-df-convert {\n",
              "      background-color: #E8F0FE;\n",
              "      border: none;\n",
              "      border-radius: 50%;\n",
              "      cursor: pointer;\n",
              "      display: none;\n",
              "      fill: #1967D2;\n",
              "      height: 32px;\n",
              "      padding: 0 0 0 0;\n",
              "      width: 32px;\n",
              "    }\n",
              "\n",
              "    .colab-df-convert:hover {\n",
              "      background-color: #E2EBFA;\n",
              "      box-shadow: 0px 1px 2px rgba(60, 64, 67, 0.3), 0px 1px 3px 1px rgba(60, 64, 67, 0.15);\n",
              "      fill: #174EA6;\n",
              "    }\n",
              "\n",
              "    [theme=dark] .colab-df-convert {\n",
              "      background-color: #3B4455;\n",
              "      fill: #D2E3FC;\n",
              "    }\n",
              "\n",
              "    [theme=dark] .colab-df-convert:hover {\n",
              "      background-color: #434B5C;\n",
              "      box-shadow: 0px 1px 3px 1px rgba(0, 0, 0, 0.15);\n",
              "      filter: drop-shadow(0px 1px 2px rgba(0, 0, 0, 0.3));\n",
              "      fill: #FFFFFF;\n",
              "    }\n",
              "  </style>\n",
              "\n",
              "      <script>\n",
              "        const buttonEl =\n",
              "          document.querySelector('#df-4b7ce3c4-995b-4704-b9ab-5d2ccaf03ad2 button.colab-df-convert');\n",
              "        buttonEl.style.display =\n",
              "          google.colab.kernel.accessAllowed ? 'block' : 'none';\n",
              "\n",
              "        async function convertToInteractive(key) {\n",
              "          const element = document.querySelector('#df-4b7ce3c4-995b-4704-b9ab-5d2ccaf03ad2');\n",
              "          const dataTable =\n",
              "            await google.colab.kernel.invokeFunction('convertToInteractive',\n",
              "                                                     [key], {});\n",
              "          if (!dataTable) return;\n",
              "\n",
              "          const docLinkHtml = 'Like what you see? Visit the ' +\n",
              "            '<a target=\"_blank\" href=https://colab.research.google.com/notebooks/data_table.ipynb>data table notebook</a>'\n",
              "            + ' to learn more about interactive tables.';\n",
              "          element.innerHTML = '';\n",
              "          dataTable['output_type'] = 'display_data';\n",
              "          await google.colab.output.renderOutput(dataTable, element);\n",
              "          const docLink = document.createElement('div');\n",
              "          docLink.innerHTML = docLinkHtml;\n",
              "          element.appendChild(docLink);\n",
              "        }\n",
              "      </script>\n",
              "    </div>\n",
              "  </div>\n"
            ],
            "text/plain": [
              "             V1      V2       V3       V4      V5       V6      V7       V8  \\\n",
              "161145 -0.13207 0.10704 -0.65059 -0.99603 1.81433  1.74074 0.49685  0.63302   \n",
              "204520  2.12599 0.01421 -1.51476  0.11502 0.59851 -0.33324 0.19929 -0.26435   \n",
              "\n",
              "            V9      V10  ...      V20      V21      V22     V23      V24  \\\n",
              "161145 0.01718 -0.36271  ... -0.06261 -0.06249  0.00529 0.25152 -2.46681   \n",
              "204520 0.38411  0.02875  ... -0.08608 -0.32937 -0.78815 0.26773  0.06612   \n",
              "\n",
              "            V25     V26      V27      V28   Amount  \n",
              "161145 -0.88969 0.33746  0.30639  0.07482 -0.16569  \n",
              "204520 -0.13578 0.20384 -0.06827 -0.05768 -0.35224  \n",
              "\n",
              "[2 rows x 29 columns]"
            ]
          },
          "execution_count": 13,
          "metadata": {},
          "output_type": "execute_result"
        }
      ],
      "source": [
        "x_train.head(2)"
      ]
    },
    {
      "cell_type": "markdown",
      "metadata": {
        "id": "P0X2zhbEpZJb"
      },
      "source": [
        "# `STEP #6: MODELS TRAINING && Evaluation`"
      ]
    },
    {
      "cell_type": "markdown",
      "metadata": {
        "id": "I_sjfpolywQ9"
      },
      "source": [
        "### - Deep neural network"
      ]
    },
    {
      "cell_type": "code",
      "execution_count": null,
      "metadata": {
        "colab": {
          "base_uri": "https://localhost:8080/"
        },
        "id": "Ygm0t00Ly_6P",
        "outputId": "8f2389f5-6d78-424b-c933-d99af332a9b9"
      },
      "outputs": [
        {
          "name": "stdout",
          "output_type": "stream",
          "text": [
            "Model: \"dnn\"\n",
            "_________________________________________________________________\n",
            " Layer (type)                Output Shape              Param #   \n",
            "=================================================================\n",
            " Dense_1 (Dense)             (None, 16)                480       \n",
            "                                                                 \n",
            " Dense_2 (Dense)             (None, 24)                408       \n",
            "                                                                 \n",
            " dropout (Dropout)           (None, 24)                0         \n",
            "                                                                 \n",
            " Dense_3 (Dense)             (None, 20)                500       \n",
            "                                                                 \n",
            " dropout_1 (Dropout)         (None, 20)                0         \n",
            "                                                                 \n",
            " Dense_4 (Dense)             (None, 24)                504       \n",
            "                                                                 \n",
            " Dense_5 (Dense)             (None, 1)                 25        \n",
            "                                                                 \n",
            "=================================================================\n",
            "Total params: 1,917\n",
            "Trainable params: 1,917\n",
            "Non-trainable params: 0\n",
            "_________________________________________________________________\n"
          ]
        }
      ],
      "source": [
        "from tensorflow.keras.models import Sequential\n",
        "from tensorflow.keras.layers import Dropout, Dense\n",
        "\n",
        "model = Sequential(layers=[\n",
        "    Dense(units=16, input_dim=29, activation='relu', name='Dense_1'),\n",
        "    Dense(units=24, activation='relu', name='Dense_2'),\n",
        "    Dropout(0.5),\n",
        "    Dense(units=20, activation='relu', name='Dense_3'),\n",
        "    Dropout(0.5),\n",
        "    Dense(units=24, activation='relu', name='Dense_4'),\n",
        "    Dense(units=1, activation='sigmoid', name='Dense_5')\n",
        "], name='dnn')\n",
        "\n",
        "model.summary()"
      ]
    },
    {
      "cell_type": "code",
      "execution_count": null,
      "metadata": {
        "colab": {
          "base_uri": "https://localhost:8080/"
        },
        "id": "6f9vyDfU9EaV",
        "outputId": "4885e9fa-a67d-4bfe-bfa4-9e35818b3e34"
      },
      "outputs": [
        {
          "name": "stdout",
          "output_type": "stream",
          "text": [
            "Epoch 1/5\n",
            "13291/13291 [==============================] - 32s 2ms/step - loss: 0.0111 - accuracy: 0.9982\n",
            "Epoch 2/5\n",
            "13291/13291 [==============================] - 32s 2ms/step - loss: 0.0055 - accuracy: 0.9993\n",
            "Epoch 3/5\n",
            "13291/13291 [==============================] - 33s 2ms/step - loss: 0.0049 - accuracy: 0.9993\n",
            "Epoch 4/5\n",
            "13291/13291 [==============================] - 30s 2ms/step - loss: 0.0046 - accuracy: 0.9993\n",
            "Epoch 5/5\n",
            "13291/13291 [==============================] - 30s 2ms/step - loss: 0.0042 - accuracy: 0.9993\n"
          ]
        },
        {
          "data": {
            "text/plain": [
              "<keras.callbacks.History at 0x7a00503c7d30>"
            ]
          },
          "execution_count": 16,
          "metadata": {},
          "output_type": "execute_result"
        }
      ],
      "source": [
        "model.compile(optimizer='adam', loss='binary_crossentropy', metrics=['accuracy'])\n",
        "model.fit(x_train, y_train, batch_size=15, epochs=5)"
      ]
    },
    {
      "cell_type": "code",
      "execution_count": null,
      "metadata": {
        "colab": {
          "base_uri": "https://localhost:8080/"
        },
        "id": "MVo74h6x-rVA",
        "outputId": "511a91aa-62e4-49e1-fe37-b65062fa9244"
      },
      "outputs": [
        {
          "name": "stdout",
          "output_type": "stream",
          "text": [
            "2671/2671 [==============================] - 4s 2ms/step - loss: 0.0047 - accuracy: 0.9993\n"
          ]
        },
        {
          "data": {
            "text/plain": [
              "[0.004699627868831158, 0.9993329048156738]"
            ]
          },
          "execution_count": 17,
          "metadata": {},
          "output_type": "execute_result"
        }
      ],
      "source": [
        "score = model.evaluate(x_test, y_test)\n",
        "score"
      ]
    },
    {
      "cell_type": "markdown",
      "metadata": {
        "id": "v7hmQJwx_fxd"
      },
      "source": [
        "Without Dropout layers"
      ]
    },
    {
      "cell_type": "code",
      "execution_count": null,
      "metadata": {
        "colab": {
          "base_uri": "https://localhost:8080/"
        },
        "id": "Fm4XRv8-_jZZ",
        "outputId": "9c867814-fdfe-4db4-95e6-86c7ad25e08d"
      },
      "outputs": [
        {
          "name": "stdout",
          "output_type": "stream",
          "text": [
            "Epoch 1/5\n",
            "13291/13291 [==============================] - 31s 2ms/step - loss: 0.0063 - accuracy: 0.9991\n",
            "Epoch 2/5\n",
            "13291/13291 [==============================] - 30s 2ms/step - loss: 0.0032 - accuracy: 0.9994\n",
            "Epoch 3/5\n",
            "13291/13291 [==============================] - 30s 2ms/step - loss: 0.0031 - accuracy: 0.9994\n",
            "Epoch 4/5\n",
            "13291/13291 [==============================] - 30s 2ms/step - loss: 0.0029 - accuracy: 0.9994\n",
            "Epoch 5/5\n",
            "13291/13291 [==============================] - 29s 2ms/step - loss: 0.0027 - accuracy: 0.9994\n"
          ]
        },
        {
          "data": {
            "text/plain": [
              "<keras.callbacks.History at 0x7a00503c77c0>"
            ]
          },
          "execution_count": 68,
          "metadata": {},
          "output_type": "execute_result"
        }
      ],
      "source": [
        "model2 = Sequential(layers=[\n",
        "    Dense(units=16, input_dim=29, activation='relu', name='Dense_1'),\n",
        "    Dense(units=24, activation='relu', name='Dense_2'),\n",
        "    Dense(units=20, activation='relu', name='Dense_3'),\n",
        "    Dense(units=24, activation='relu', name='Dense_4'),\n",
        "    Dense(units=1, activation='sigmoid', name='Dense_5')\n",
        "], name='dnn2')\n",
        "\n",
        "model2.compile('adam', loss=tf.keras.losses.BinaryCrossentropy(from_logits=False), metrics=['accuracy'])\n",
        "model2.fit(x_train, y_train, batch_size=15, epochs=5)"
      ]
    },
    {
      "cell_type": "code",
      "execution_count": null,
      "metadata": {
        "colab": {
          "base_uri": "https://localhost:8080/"
        },
        "id": "SFOMOr_C_phl",
        "outputId": "b5271be6-237f-45e6-94c7-e43760268694"
      },
      "outputs": [
        {
          "name": "stdout",
          "output_type": "stream",
          "text": [
            "2671/2671 [==============================] - 4s 2ms/step - loss: 0.0040 - accuracy: 0.9994\n"
          ]
        },
        {
          "data": {
            "text/plain": [
              "[0.0040337019599974155, 0.9993562698364258]"
            ]
          },
          "execution_count": 69,
          "metadata": {},
          "output_type": "execute_result"
        }
      ],
      "source": [
        "score2 = model2.evaluate(x_test, y_test)\n",
        "score2"
      ]
    },
    {
      "cell_type": "code",
      "execution_count": null,
      "metadata": {
        "colab": {
          "base_uri": "https://localhost:8080/"
        },
        "id": "OsTO5v8dHYMo",
        "outputId": "c8753f10-b59c-4927-fa70-40418123e8c0"
      },
      "outputs": [
        {
          "name": "stdout",
          "output_type": "stream",
          "text": [
            "2671/2671 [==============================] - 4s 1ms/step\n",
            "2671/2671 [==============================] - 4s 2ms/step\n"
          ]
        }
      ],
      "source": [
        "y_test_hat_model1 = model.predict(x_test).round()\n",
        "y_test_hat_model2 = model2.predict(x_test).round()"
      ]
    },
    {
      "cell_type": "code",
      "execution_count": null,
      "metadata": {
        "colab": {
          "base_uri": "https://localhost:8080/",
          "height": 237
        },
        "id": "vDZ8Kz0qGC_3",
        "outputId": "c45e4208-a0f0-4225-d24d-344c31e6bf57"
      },
      "outputs": [
        {
          "data": {
            "image/png": "[encoded data removed]",
            "text/plain": [
              "<Figure size 1000x200 with 4 Axes>"
            ]
          },
          "metadata": {},
          "output_type": "display_data"
        }
      ],
      "source": [
        "plt.subplots(1, 2, figsize=(10,2))\n",
        "plt.subplots_adjust(wspace=0.6)\n",
        "\n",
        "plt.subplot(1,2,1)\n",
        "sns.heatmap(confusion_matrix(y_test, y_test_hat_model1), annot=True, fmt='g')\n",
        "plt.title('Confusion matrix of Model1 (with Dropout)')\n",
        "\n",
        "plt.subplot(1,2,2)\n",
        "sns.heatmap(confusion_matrix(y_test, y_test_hat_model2), annot=True, fmt='g')\n",
        "plt.title('Confusion matrix of Model2 (without Dropout)')\n",
        "\n",
        "plt.show()\n"
      ]
    },
    {
      "cell_type": "code",
      "execution_count": null,
      "metadata": {
        "colab": {
          "base_uri": "https://localhost:8080/"
        },
        "id": "ONDnvU_K_k1P",
        "outputId": "4752ea60-acc0-433f-9e14-23e0b2bddc58"
      },
      "outputs": [
        {
          "name": "stdout",
          "output_type": "stream",
          "text": [
            "classification report for dropout model:\n",
            "              precision    recall  f1-score   support\n",
            "\n",
            "           0       1.00      1.00      1.00     85296\n",
            "           1       0.80      0.82      0.81       147\n",
            "\n",
            "    accuracy                           1.00     85443\n",
            "   macro avg       0.90      0.91      0.90     85443\n",
            "weighted avg       1.00      1.00      1.00     85443\n",
            "\n"
          ]
        }
      ],
      "source": [
        "from sklearn.metrics import classification_report\n",
        "print('classification report for dropout model:')\n",
        "print(classification_report(y_test, y_test_hat_model1))"
      ]
    },
    {
      "cell_type": "markdown",
      "metadata": {
        "id": "j2ulUzi4-SMz"
      },
      "source": [
        "- So you saw that without dropout model failed to predict all positive examples"
      ]
    },
    {
      "cell_type": "markdown",
      "metadata": {
        "id": "se8fXMMY8gFI"
      },
      "source": [
        "### - RandomForest"
      ]
    },
    {
      "cell_type": "code",
      "execution_count": null,
      "metadata": {
        "colab": {
          "base_uri": "https://localhost:8080/",
          "height": 74
        },
        "id": "dnAuvt9YAUVC",
        "outputId": "9449a0d3-861f-4411-97d3-ee0cdddefcf1"
      },
      "outputs": [
        {
          "data": {
            "text/html": [
              "<style>#sk-container-id-4 {color: black;background-color: white;}#sk-container-id-4 pre{padding: 0;}#sk-container-id-4 div.sk-toggleable {background-color: white;}#sk-container-id-4 label.sk-toggleable__label {cursor: pointer;display: block;width: 100%;margin-bottom: 0;padding: 0.3em;box-sizing: border-box;text-align: center;}#sk-container-id-4 label.sk-toggleable__label-arrow:before {content: \"▸\";float: left;margin-right: 0.25em;color: #696969;}#sk-container-id-4 label.sk-toggleable__label-arrow:hover:before {color: black;}#sk-container-id-4 div.sk-estimator:hover label.sk-toggleable__label-arrow:before {color: black;}#sk-container-id-4 div.sk-toggleable__content {max-height: 0;max-width: 0;overflow: hidden;text-align: left;background-color: #f0f8ff;}#sk-container-id-4 div.sk-toggleable__content pre {margin: 0.2em;color: black;border-radius: 0.25em;background-color: #f0f8ff;}#sk-container-id-4 input.sk-toggleable__control:checked~div.sk-toggleable__content {max-height: 200px;max-width: 100%;overflow: auto;}#sk-container-id-4 input.sk-toggleable__control:checked~label.sk-toggleable__label-arrow:before {content: \"▾\";}#sk-container-id-4 div.sk-estimator input.sk-toggleable__control:checked~label.sk-toggleable__label {background-color: #d4ebff;}#sk-container-id-4 div.sk-label input.sk-toggleable__control:checked~label.sk-toggleable__label {background-color: #d4ebff;}#sk-container-id-4 input.sk-hidden--visually {border: 0;clip: rect(1px 1px 1px 1px);clip: rect(1px, 1px, 1px, 1px);height: 1px;margin: -1px;overflow: hidden;padding: 0;position: absolute;width: 1px;}#sk-container-id-4 div.sk-estimator {font-family: monospace;background-color: #f0f8ff;border: 1px dotted black;border-radius: 0.25em;box-sizing: border-box;margin-bottom: 0.5em;}#sk-container-id-4 div.sk-estimator:hover {background-color: #d4ebff;}#sk-container-id-4 div.sk-parallel-item::after {content: \"\";width: 100%;border-bottom: 1px solid gray;flex-grow: 1;}#sk-container-id-4 div.sk-label:hover label.sk-toggleable__label {background-color: #d4ebff;}#sk-container-id-4 div.sk-serial::before {content: \"\";position: absolute;border-left: 1px solid gray;box-sizing: border-box;top: 0;bottom: 0;left: 50%;z-index: 0;}#sk-container-id-4 div.sk-serial {display: flex;flex-direction: column;align-items: center;background-color: white;padding-right: 0.2em;padding-left: 0.2em;position: relative;}#sk-container-id-4 div.sk-item {position: relative;z-index: 1;}#sk-container-id-4 div.sk-parallel {display: flex;align-items: stretch;justify-content: center;background-color: white;position: relative;}#sk-container-id-4 div.sk-item::before, #sk-container-id-4 div.sk-parallel-item::before {content: \"\";position: absolute;border-left: 1px solid gray;box-sizing: border-box;top: 0;bottom: 0;left: 50%;z-index: -1;}#sk-container-id-4 div.sk-parallel-item {display: flex;flex-direction: column;z-index: 1;position: relative;background-color: white;}#sk-container-id-4 div.sk-parallel-item:first-child::after {align-self: flex-end;width: 50%;}#sk-container-id-4 div.sk-parallel-item:last-child::after {align-self: flex-start;width: 50%;}#sk-container-id-4 div.sk-parallel-item:only-child::after {width: 0;}#sk-container-id-4 div.sk-dashed-wrapped {border: 1px dashed gray;margin: 0 0.4em 0.5em 0.4em;box-sizing: border-box;padding-bottom: 0.4em;background-color: white;}#sk-container-id-4 div.sk-label label {font-family: monospace;font-weight: bold;display: inline-block;line-height: 1.2em;}#sk-container-id-4 div.sk-label-container {text-align: center;}#sk-container-id-4 div.sk-container {/* jupyter's `normalize.less` sets `[hidden] { display: none; }` but bootstrap.min.css set `[hidden] { display: none !important; }` so we also need the `!important` here to be able to override the default hidden behavior on the sphinx rendered scikit-learn.org. See: https://github.com/scikit-learn/scikit-learn/issues/21755 */display: inline-block !important;position: relative;}#sk-container-id-4 div.sk-text-repr-fallback {display: none;}</style><div id=\"sk-container-id-4\" class=\"sk-top-container\"><div class=\"sk-text-repr-fallback\"><pre>RandomForestClassifier(n_jobs=-1, random_state=0)</pre><b>In a Jupyter environment, please rerun this cell to show the HTML representation or trust the notebook. <br />On GitHub, the HTML representation is unable to render, please try loading this page with nbviewer.org.</b></div><div class=\"sk-container\" hidden><div class=\"sk-item\"><div class=\"sk-estimator sk-toggleable\"><input class=\"sk-toggleable__control sk-hidden--visually\" id=\"sk-estimator-id-4\" type=\"checkbox\" checked><label for=\"sk-estimator-id-4\" class=\"sk-toggleable__label sk-toggleable__label-arrow\">RandomForestClassifier</label><div class=\"sk-toggleable__content\"><pre>RandomForestClassifier(n_jobs=-1, random_state=0)</pre></div></div></div></div></div>"
            ],
            "text/plain": [
              "RandomForestClassifier(n_jobs=-1, random_state=0)"
            ]
          },
          "execution_count": 77,
          "metadata": {},
          "output_type": "execute_result"
        }
      ],
      "source": [
        "from sklearn.ensemble import RandomForestClassifier\n",
        "\n",
        "rfc = RandomForestClassifier(n_estimators=100, n_jobs=-1, random_state=0)\n",
        "rfc.fit(x_train, y_train)"
      ]
    },
    {
      "cell_type": "code",
      "execution_count": null,
      "metadata": {
        "colab": {
          "base_uri": "https://localhost:8080/",
          "height": 256
        },
        "id": "MeyDw1Q6E3TA",
        "outputId": "21cd0079-5be6-4bcd-dbb1-2e7097ea91c3"
      },
      "outputs": [
        {
          "data": {
            "image/png": "[encoded data removed]",
            "text/plain": [
              "<Figure size 1000x200 with 4 Axes>"
            ]
          },
          "metadata": {},
          "output_type": "display_data"
        }
      ],
      "source": [
        "accuracy_score,\n",
        "y_test_hat_tree = rfc.predict(x_test)\n",
        "y_train_hat_tree = rfc.predict(x_train)\n",
        "\n",
        "plt.subplots(1, 2, figsize=(10,2))\n",
        "plt.subplots_adjust(wspace=0.6)\n",
        "\n",
        "plt.subplot(1,2,1)\n",
        "sns.heatmap(confusion_matrix(y_test, y_test_hat_tree), annot=True, fmt='g')\n",
        "plt.title('Confusion matrix of randomforest Testset')\n",
        "plt.xlabel(f'Accuracy = {accuracy_score(y_test, y_test_hat_tree):.8f}')\n",
        "\n",
        "plt.subplot(1,2,2)\n",
        "sns.heatmap(confusion_matrix(y_train, y_train_hat_tree), annot=True, fmt='g')\n",
        "plt.title('Confusion matrix of randomforest Trainset')\n",
        "plt.xlabel(f'Accuracy = {accuracy_score(y_train, y_train_hat_tree):.8f}')\n",
        "\n",
        "plt.show()"
      ]
    },
    {
      "cell_type": "code",
      "execution_count": null,
      "metadata": {
        "id": "TvLHK1-VLReP"
      },
      "outputs": [],
      "source": [
        "'''\n",
        "#Just For Fun\n",
        "graph = Source( tree.export_graphviz(rfc.estimators_[2], out_file=None, feature_names=x.columns))\n",
        "png_bytes = graph.pipe(format='png')\n",
        "with open('dtree_pipe.png','wb') as f:\n",
        "    f.write(png_bytes)\n",
        "\n",
        "from IPython.display import Image\n",
        "Image(png_bytes)\n",
        "'''"
      ]
    },
    {
      "cell_type": "markdown",
      "metadata": {
        "id": "VDhJ9GQI7Ec6"
      },
      "source": []
    },
    {
      "cell_type": "markdown",
      "metadata": {
        "id": "UIWXWxSl7GhS"
      },
      "source": [
        "### - NN + Undersampling"
      ]
    },
    {
      "cell_type": "code",
      "execution_count": null,
      "metadata": {
        "id": "zgaknsBK8ONd"
      },
      "outputs": [],
      "source": [
        "pos_count = y.value_counts()[1]\n",
        "pos_indices = y[y==1].index\n",
        "all_neg_indices = y[y==0].index\n",
        "x_pos = x.iloc[y[y==1].index,:]\n",
        "x_neg = x.iloc[np.random.choice(all_neg_indices, pos_count, replace=False),:]\n"
      ]
    },
    {
      "cell_type": "code",
      "execution_count": null,
      "metadata": {
        "colab": {
          "base_uri": "https://localhost:8080/"
        },
        "id": "OFKkhd1u-OfE",
        "outputId": "be62602a-9dad-4fe0-ebca-b9704744bd3d"
      },
      "outputs": [
        {
          "data": {
            "text/plain": [
              "((688, 29), (296, 29), (688,), (296,))"
            ]
          },
          "execution_count": 51,
          "metadata": {},
          "output_type": "execute_result"
        }
      ],
      "source": [
        "x_under = pd.concat([x_pos,x_neg])\n",
        "y_under = y.iloc[x_under.index]\n",
        "\n",
        "x_train_under, x_test_under, y_train_under, y_test_under = train_test_split(x_under, y_under, test_size=test_size, random_state=0)\n",
        "x_train_under.shape, x_test_under.shape, y_train_under.shape, y_test_under.shape"
      ]
    },
    {
      "cell_type": "code",
      "execution_count": null,
      "metadata": {
        "colab": {
          "base_uri": "https://localhost:8080/"
        },
        "id": "CNM-TOheAKti",
        "outputId": "2cb9599b-b826-47f5-d095-da5071f4a7f2"
      },
      "outputs": [
        {
          "name": "stdout",
          "output_type": "stream",
          "text": [
            "Epoch 1/20\n",
            "69/69 [==============================] - 1s 1ms/step - loss: 0.3072 - accuracy: 0.8924\n",
            "Epoch 2/20\n",
            "69/69 [==============================] - 0s 1ms/step - loss: 0.3159 - accuracy: 0.8983\n",
            "Epoch 3/20\n",
            "69/69 [==============================] - 0s 1ms/step - loss: 0.2879 - accuracy: 0.9099\n",
            "Epoch 4/20\n",
            "69/69 [==============================] - 0s 1ms/step - loss: 0.2615 - accuracy: 0.9113\n",
            "Epoch 5/20\n",
            "69/69 [==============================] - 0s 1ms/step - loss: 0.2890 - accuracy: 0.9041\n",
            "Epoch 6/20\n",
            "69/69 [==============================] - 0s 1ms/step - loss: 0.2555 - accuracy: 0.9084\n",
            "Epoch 7/20\n",
            "69/69 [==============================] - 0s 1ms/step - loss: 0.2350 - accuracy: 0.9157\n",
            "Epoch 8/20\n",
            "69/69 [==============================] - 0s 2ms/step - loss: 0.2291 - accuracy: 0.9099\n",
            "Epoch 9/20\n",
            "69/69 [==============================] - 0s 2ms/step - loss: 0.2599 - accuracy: 0.9142\n",
            "Epoch 10/20\n",
            "69/69 [==============================] - 0s 2ms/step - loss: 0.2271 - accuracy: 0.9128\n",
            "Epoch 11/20\n",
            "69/69 [==============================] - 0s 2ms/step - loss: 0.2196 - accuracy: 0.9142\n",
            "Epoch 12/20\n",
            "69/69 [==============================] - 0s 2ms/step - loss: 0.2072 - accuracy: 0.9157\n",
            "Epoch 13/20\n",
            "69/69 [==============================] - 0s 1ms/step - loss: 0.2151 - accuracy: 0.9201\n",
            "Epoch 14/20\n",
            "69/69 [==============================] - 0s 2ms/step - loss: 0.2034 - accuracy: 0.9230\n",
            "Epoch 15/20\n",
            "69/69 [==============================] - 0s 1ms/step - loss: 0.2194 - accuracy: 0.9201\n",
            "Epoch 16/20\n",
            "69/69 [==============================] - 0s 1ms/step - loss: 0.1816 - accuracy: 0.9302\n",
            "Epoch 17/20\n",
            "69/69 [==============================] - 0s 2ms/step - loss: 0.1987 - accuracy: 0.9302\n",
            "Epoch 18/20\n",
            "69/69 [==============================] - 0s 1ms/step - loss: 0.1978 - accuracy: 0.9288\n",
            "Epoch 19/20\n",
            "69/69 [==============================] - 0s 1ms/step - loss: 0.2300 - accuracy: 0.9317\n",
            "Epoch 20/20\n",
            "69/69 [==============================] - 0s 1ms/step - loss: 0.2100 - accuracy: 0.9259\n"
          ]
        },
        {
          "data": {
            "text/plain": [
              "<keras.callbacks.History at 0x7a535ac76cb0>"
            ]
          },
          "execution_count": 60,
          "metadata": {},
          "output_type": "execute_result"
        }
      ],
      "source": [
        "model.compile(optimizer='adam', loss='binary_crossentropy', metrics=['accuracy'])\n",
        "model.fit(x_train_under, y_train_under, batch_size=10, epochs=20)"
      ]
    },
    {
      "cell_type": "code",
      "execution_count": null,
      "metadata": {
        "colab": {
          "base_uri": "https://localhost:8080/",
          "height": 507
        },
        "id": "k8wUTcIFMrZ9",
        "outputId": "7ede5ac7-9cc7-4d00-9266-fa5664bc056c"
      },
      "outputs": [
        {
          "name": "stdout",
          "output_type": "stream",
          "text": [
            "10/10 [==============================] - 0s 2ms/step\n"
          ]
        },
        {
          "data": {
            "text/plain": [
              "Text(0.5, 23.52222222222222, 'Accuracy = 0.91216216')"
            ]
          },
          "execution_count": 62,
          "metadata": {},
          "output_type": "execute_result"
        },
        {
          "data": {
            "image/png": "[encoded data removed]",
            "text/plain": [
              "<Figure size 640x480 with 2 Axes>"
            ]
          },
          "metadata": {},
          "output_type": "display_data"
        }
      ],
      "source": [
        "y_test_hat_model1_under = model.predict(x_test_under).round()\n",
        "sns.heatmap(confusion_matrix(y_test_under, y_test_hat_model1_under), annot=True, fmt='g')\n",
        "plt.title('Confusion matrix of Model1 with under sampling')\n",
        "plt.xlabel(f'Accuracy = {accuracy_score(y_test_under, y_test_hat_model1_under):.8f}')"
      ]
    },
    {
      "cell_type": "code",
      "execution_count": null,
      "metadata": {
        "colab": {
          "base_uri": "https://localhost:8080/",
          "height": 507
        },
        "id": "QxiweOsOWS65",
        "outputId": "d70d90fc-4b3a-48a3-a162-8dc358360b3f"
      },
      "outputs": [
        {
          "name": "stdout",
          "output_type": "stream",
          "text": [
            "8901/8901 [==============================] - 8s 932us/step\n"
          ]
        },
        {
          "data": {
            "text/plain": [
              "Text(0.5, 23.52222222222222, 'Accuracy = 0.97603640')"
            ]
          },
          "execution_count": 63,
          "metadata": {},
          "output_type": "execute_result"
        },
        {
          "data": {
            "image/png": "[encoded data removed]",
            "text/plain": [
              "<Figure size 640x480 with 2 Axes>"
            ]
          },
          "metadata": {},
          "output_type": "display_data"
        }
      ],
      "source": [
        "y_hat_model1 = model.predict(x).round()\n",
        "sns.heatmap(confusion_matrix(y, y_hat_model1), annot=True, fmt='g')\n",
        "plt.title('Confusion matrix of Model1 with under sampling for whole dataset')\n",
        "plt.xlabel(f'Accuracy = {accuracy_score(y, y_hat_model1):.8f}')"
      ]
    },
    {
      "cell_type": "markdown",
      "metadata": {
        "id": "dOpi-QLeXUeO"
      },
      "source": [
        "### - NN + Oversampling (SMOTE)"
      ]
    },
    {
      "cell_type": "code",
      "execution_count": null,
      "metadata": {
        "colab": {
          "base_uri": "https://localhost:8080/"
        },
        "id": "jrkVicNlXfo_",
        "outputId": "1a991976-0a95-4dc8-f925-758cb647713c"
      },
      "outputs": [
        {
          "data": {
            "text/plain": [
              "((568630, 29), (568630,), (284807, 29), (284807,))"
            ]
          },
          "execution_count": 68,
          "metadata": {},
          "output_type": "execute_result"
        }
      ],
      "source": [
        "from imblearn.over_sampling import SMOTE\n",
        "\n",
        "x_over, y_over = SMOTE().fit_resample(x,y)\n",
        "x_over.shape, y_over.shape, x.shape, y.shape"
      ]
    },
    {
      "cell_type": "code",
      "execution_count": null,
      "metadata": {
        "colab": {
          "base_uri": "https://localhost:8080/"
        },
        "id": "uVMCEh-uYUuP",
        "outputId": "607621e1-96c9-4d72-a2c0-7e3b44806110"
      },
      "outputs": [
        {
          "data": {
            "text/plain": [
              "((398041, 29), (170589, 29), (398041,), (170589,))"
            ]
          },
          "execution_count": 70,
          "metadata": {},
          "output_type": "execute_result"
        }
      ],
      "source": [
        "x_train_over, x_test_over, y_train_over, y_test_over = train_test_split(x_over,y_over,test_size=0.3, random_state=0)\n",
        "x_train_over.shape, x_test_over.shape, y_train_over.shape, y_test_over.shape"
      ]
    },
    {
      "cell_type": "code",
      "execution_count": null,
      "metadata": {
        "colab": {
          "base_uri": "https://localhost:8080/"
        },
        "id": "oRCuXQRlYpN4",
        "outputId": "ed3076a9-bdc2-4442-f33a-13bb991974de"
      },
      "outputs": [
        {
          "name": "stdout",
          "output_type": "stream",
          "text": [
            "Epoch 1/5\n",
            "19903/19903 [==============================] - 30s 1ms/step - loss: 0.0933 - accuracy: 0.9673\n",
            "Epoch 2/5\n",
            "19903/19903 [==============================] - 29s 1ms/step - loss: 0.0476 - accuracy: 0.9847\n",
            "Epoch 3/5\n",
            "19903/19903 [==============================] - 30s 2ms/step - loss: 0.0375 - accuracy: 0.9883\n",
            "Epoch 4/5\n",
            "19903/19903 [==============================] - 28s 1ms/step - loss: 0.0351 - accuracy: 0.9893\n",
            "Epoch 5/5\n",
            "19903/19903 [==============================] - 29s 1ms/step - loss: 0.0308 - accuracy: 0.9905\n"
          ]
        },
        {
          "data": {
            "text/plain": [
              "<keras.callbacks.History at 0x7a5355302980>"
            ]
          },
          "execution_count": 75,
          "metadata": {},
          "output_type": "execute_result"
        }
      ],
      "source": [
        "model.compile(optimizer='adam', loss='binary_crossentropy', metrics=['accuracy'])\n",
        "model.fit(x_train_over, y_train_over, batch_size=20, epochs=5)"
      ]
    },
    {
      "cell_type": "code",
      "execution_count": null,
      "metadata": {
        "colab": {
          "base_uri": "https://localhost:8080/",
          "height": 507
        },
        "id": "9zdIz-RKZB1q",
        "outputId": "13935d78-17d4-4be5-bb7c-82c4c625b42e"
      },
      "outputs": [
        {
          "name": "stdout",
          "output_type": "stream",
          "text": [
            "5331/5331 [==============================] - 5s 886us/step\n"
          ]
        },
        {
          "data": {
            "text/plain": [
              "Text(0.5, 23.52222222222222, 'Accuracy = 0.99269589')"
            ]
          },
          "execution_count": 76,
          "metadata": {},
          "output_type": "execute_result"
        },
        {
          "data": {
            "image/png": "[encoded data removed]",
            "text/plain": [
              "<Figure size 640x480 with 2 Axes>"
            ]
          },
          "metadata": {},
          "output_type": "display_data"
        }
      ],
      "source": [
        "y_test_hat_model1_over = model.predict(x_test_over).round()\n",
        "sns.heatmap(confusion_matrix(y_test_over, y_test_hat_model1_over), annot=True, fmt='g')\n",
        "plt.title('Confusion matrix of Model1 with over sampling')\n",
        "plt.xlabel(f'Accuracy = {accuracy_score(y_test_over, y_test_hat_model1_over):.8f}')"
      ]
    },
    {
      "cell_type": "markdown",
      "metadata": {
        "id": "awylvgATpbvX"
      },
      "source": [
        "# `STEP #7: Tuning`"
      ]
    },
    {
      "cell_type": "markdown",
      "metadata": {
        "id": "Nnb13zHDbFeu"
      },
      "source": [
        "remaining:\n",
        "- try anomoly detection\n",
        "- tuning\n"
      ]
    }
  ],
  "metadata": {
    "colab": {
      "collapsed_sections": [
        "lhNPeluVGpbS",
        "UGrIO9hHeG9F",
        "YPQsnh-Ifk4V"
      ],
      "provenance": []
    },
    "kernelspec": {
      "display_name": "Python 3",
      "name": "python3"
    },
    "language_info": {
      "name": "python"
    }
  },
  "nbformat": 4,
  "nbformat_minor": 0
}
